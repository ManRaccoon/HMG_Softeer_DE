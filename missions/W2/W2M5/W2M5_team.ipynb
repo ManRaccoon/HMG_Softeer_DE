{
 "cells": [
  {
   "cell_type": "code",
   "execution_count": 1,
   "id": "61d4ae9d",
   "metadata": {},
   "outputs": [
    {
     "name": "stdout",
     "output_type": "stream",
     "text": [
      "Collecting selenium\n",
      "  Downloading selenium-4.34.2-py3-none-any.whl.metadata (7.5 kB)\n",
      "Collecting urllib3~=2.5.0 (from urllib3[socks]~=2.5.0->selenium)\n",
      "  Downloading urllib3-2.5.0-py3-none-any.whl.metadata (6.5 kB)\n",
      "Collecting trio~=0.30.0 (from selenium)\n",
      "  Using cached trio-0.30.0-py3-none-any.whl.metadata (8.5 kB)\n",
      "Collecting trio-websocket~=0.12.2 (from selenium)\n",
      "  Using cached trio_websocket-0.12.2-py3-none-any.whl.metadata (5.1 kB)\n",
      "Collecting certifi>=2025.6.15 (from selenium)\n",
      "  Downloading certifi-2025.7.14-py3-none-any.whl.metadata (2.4 kB)\n",
      "Collecting typing_extensions~=4.14.0 (from selenium)\n",
      "  Downloading typing_extensions-4.14.1-py3-none-any.whl.metadata (3.0 kB)\n",
      "Requirement already satisfied: websocket-client~=1.8.0 in /opt/homebrew/anaconda3/lib/python3.12/site-packages (from selenium) (1.8.0)\n",
      "Collecting attrs>=23.2.0 (from trio~=0.30.0->selenium)\n",
      "  Using cached attrs-25.3.0-py3-none-any.whl.metadata (10 kB)\n",
      "Requirement already satisfied: sortedcontainers in /opt/homebrew/anaconda3/lib/python3.12/site-packages (from trio~=0.30.0->selenium) (2.4.0)\n",
      "Requirement already satisfied: idna in /opt/homebrew/anaconda3/lib/python3.12/site-packages (from trio~=0.30.0->selenium) (3.7)\n",
      "Collecting outcome (from trio~=0.30.0->selenium)\n",
      "  Using cached outcome-1.3.0.post0-py2.py3-none-any.whl.metadata (2.6 kB)\n",
      "Requirement already satisfied: sniffio>=1.3.0 in /opt/homebrew/anaconda3/lib/python3.12/site-packages (from trio~=0.30.0->selenium) (1.3.0)\n",
      "Collecting wsproto>=0.14 (from trio-websocket~=0.12.2->selenium)\n",
      "  Using cached wsproto-1.2.0-py3-none-any.whl.metadata (5.6 kB)\n",
      "Requirement already satisfied: pysocks!=1.5.7,<2.0,>=1.5.6 in /opt/homebrew/anaconda3/lib/python3.12/site-packages (from urllib3[socks]~=2.5.0->selenium) (1.7.1)\n",
      "Collecting h11<1,>=0.9.0 (from wsproto>=0.14->trio-websocket~=0.12.2->selenium)\n",
      "  Using cached h11-0.16.0-py3-none-any.whl.metadata (8.3 kB)\n",
      "Downloading selenium-4.34.2-py3-none-any.whl (9.4 MB)\n",
      "\u001b[2K   \u001b[90m━━━━━━━━━━━━━━━━━━━━━━━━━━━━━━━━━━━━━━━━\u001b[0m \u001b[32m9.4/9.4 MB\u001b[0m \u001b[31m9.6 MB/s\u001b[0m eta \u001b[36m0:00:00\u001b[0m00:01\u001b[0m00:01\u001b[0mm\n",
      "\u001b[?25hDownloading certifi-2025.7.14-py3-none-any.whl (162 kB)\n",
      "\u001b[2K   \u001b[90m━━━━━━━━━━━━━━━━━━━━━━━━━━━━━━━━━━━━━━━━\u001b[0m \u001b[32m162.7/162.7 kB\u001b[0m \u001b[31m5.6 MB/s\u001b[0m eta \u001b[36m0:00:00\u001b[0m\n",
      "\u001b[?25hUsing cached trio-0.30.0-py3-none-any.whl (499 kB)\n",
      "Using cached trio_websocket-0.12.2-py3-none-any.whl (21 kB)\n",
      "Downloading typing_extensions-4.14.1-py3-none-any.whl (43 kB)\n",
      "\u001b[2K   \u001b[90m━━━━━━━━━━━━━━━━━━━━━━━━━━━━━━━━━━━━━━━━\u001b[0m \u001b[32m43.9/43.9 kB\u001b[0m \u001b[31m5.5 MB/s\u001b[0m eta \u001b[36m0:00:00\u001b[0m\n",
      "\u001b[?25hDownloading urllib3-2.5.0-py3-none-any.whl (129 kB)\n",
      "\u001b[2K   \u001b[90m━━━━━━━━━━━━━━━━━━━━━━━━━━━━━━━━━━━━━━━━\u001b[0m \u001b[32m129.8/129.8 kB\u001b[0m \u001b[31m6.7 MB/s\u001b[0m eta \u001b[36m0:00:00\u001b[0m\n",
      "\u001b[?25hUsing cached attrs-25.3.0-py3-none-any.whl (63 kB)\n",
      "Using cached outcome-1.3.0.post0-py2.py3-none-any.whl (10 kB)\n",
      "Using cached wsproto-1.2.0-py3-none-any.whl (24 kB)\n",
      "Using cached h11-0.16.0-py3-none-any.whl (37 kB)\n",
      "Installing collected packages: urllib3, typing_extensions, h11, certifi, attrs, wsproto, outcome, trio, trio-websocket, selenium\n",
      "  Attempting uninstall: urllib3\n",
      "    Found existing installation: urllib3 2.2.2\n",
      "    Uninstalling urllib3-2.2.2:\n",
      "      Successfully uninstalled urllib3-2.2.2\n",
      "  Attempting uninstall: typing_extensions\n",
      "    Found existing installation: typing_extensions 4.11.0\n",
      "    Uninstalling typing_extensions-4.11.0:\n",
      "      Successfully uninstalled typing_extensions-4.11.0\n",
      "  Attempting uninstall: certifi\n",
      "    Found existing installation: certifi 2024.6.2\n",
      "    Uninstalling certifi-2024.6.2:\n",
      "      Successfully uninstalled certifi-2024.6.2\n",
      "  Attempting uninstall: attrs\n",
      "    Found existing installation: attrs 23.1.0\n",
      "    Uninstalling attrs-23.1.0:\n",
      "      Successfully uninstalled attrs-23.1.0\n",
      "Successfully installed attrs-25.3.0 certifi-2025.7.14 h11-0.16.0 outcome-1.3.0.post0 selenium-4.34.2 trio-0.30.0 trio-websocket-0.12.2 typing_extensions-4.14.1 urllib3-2.5.0 wsproto-1.2.0\n"
     ]
    }
   ],
   "source": [
    "!pip install selenium"
   ]
  },
  {
   "cell_type": "code",
   "execution_count": 58,
   "id": "cb45e8ff",
   "metadata": {},
   "outputs": [],
   "source": [
    "from selenium import webdriver\n",
    "from selenium.webdriver.common.keys import Keys\n",
    "from bs4 import BeautifulSoup\n",
    "import time\n",
    "import json\n",
    "\n",
    "\n",
    "# import requests\n",
    "\n",
    "limit = 25\n",
    "offset = 0"
   ]
  },
  {
   "cell_type": "code",
   "execution_count": 15,
   "id": "db1ce9b1",
   "metadata": {},
   "outputs": [],
   "source": [
    "URL = 'https://www.uniqlo.com/kr/ko/products/E465185-000/00/reviews'\n",
    "\n",
    "driver = webdriver.Chrome()\n",
    "driver.get(URL)\n",
    "time.sleep(5)\n",
    "driver.execute_script(\"window.scrollTo(0, 1800)\")"
   ]
  },
  {
   "cell_type": "code",
   "execution_count": null,
   "id": "95da558c",
   "metadata": {},
   "outputs": [],
   "source": [
    "from selenium import webdriver\n",
    "from selenium.webdriver.chrome.service import Service\n",
    "from selenium.webdriver.chrome.options import Options\n",
    "import time\n",
    "\n",
    "options = Options()\n",
    "options.add_argument(\"--headless\")\n",
    "driver = webdriver.Chrome(service=Service(), options=options)\n",
    "driver.get(URL)\n",
    "SCROLL_PAUSE = 2.0\n",
    "OFFSET_PX    = 300\n",
    "\n",
    "prev_height = driver.execute_script(\n",
    "    \"return document.documentElement.scrollHeight\")\n",
    "\n",
    "while True:\n",
    "    driver.execute_script(\"\"\"\n",
    "        const offset = arguments[0];\n",
    "        const doc    = document.documentElement;\n",
    "        window.scrollTo(0, doc.scrollHeight - window.innerHeight - offset);\n",
    "    \"\"\", OFFSET_PX)\n",
    "\n",
    "    time.sleep(SCROLL_PAUSE)\n",
    "\n",
    "    new_height = driver.execute_script(\n",
    "        \"return document.documentElement.scrollHeight\")\n",
    "\n",
    "    if new_height == prev_height:\n",
    "        break\n",
    "    prev_height = new_height\n",
    "\n",
    "html = driver.page_source\n",
    "\n",
    "driver.quit()"
   ]
  },
  {
   "cell_type": "code",
   "execution_count": 63,
   "id": "e7f222d1",
   "metadata": {},
   "outputs": [
    {
     "ename": "IndexError",
     "evalue": "list index out of range",
     "output_type": "error",
     "traceback": [
      "\u001b[0;31m---------------------------------------------------------------------------\u001b[0m",
      "\u001b[0;31mIndexError\u001b[0m                                Traceback (most recent call last)",
      "Cell \u001b[0;32mIn[63], line 10\u001b[0m\n\u001b[1;32m      8\u001b[0m wrapper \u001b[38;5;241m=\u001b[39m review\u001b[38;5;241m.\u001b[39mselect_one(\u001b[38;5;124m'\u001b[39m\u001b[38;5;124mdiv\u001b[39m\u001b[38;5;124m'\u001b[39m)\n\u001b[1;32m      9\u001b[0m elements \u001b[38;5;241m=\u001b[39m wrapper\u001b[38;5;241m.\u001b[39mfind_all(\u001b[38;5;124m'\u001b[39m\u001b[38;5;124mdiv\u001b[39m\u001b[38;5;124m'\u001b[39m)\n\u001b[0;32m---> 10\u001b[0m title \u001b[38;5;241m=\u001b[39m \u001b[38;5;28;01mNone\u001b[39;00m \u001b[38;5;28;01mif\u001b[39;00m elements[\u001b[38;5;241m1\u001b[39m]\u001b[38;5;241m.\u001b[39mstr \u001b[38;5;241m==\u001b[39m \u001b[38;5;28;01mNone\u001b[39;00m  \u001b[38;5;28;01melse\u001b[39;00m elements[\u001b[38;5;241m1\u001b[39m]\u001b[38;5;241m.\u001b[39mstr\u001b[38;5;241m.\u001b[39mstrip()\n\u001b[1;32m     11\u001b[0m date \u001b[38;5;241m=\u001b[39m \u001b[38;5;28;01mNone\u001b[39;00m \u001b[38;5;28;01mif\u001b[39;00m elements[\u001b[38;5;241m2\u001b[39m]\u001b[38;5;241m.\u001b[39mstr \u001b[38;5;241m==\u001b[39m \u001b[38;5;28;01mNone\u001b[39;00m \u001b[38;5;28;01melse\u001b[39;00m elements[\u001b[38;5;241m2\u001b[39m]\u001b[38;5;241m.\u001b[39mstr\u001b[38;5;241m.\u001b[39mstrip()    \n\u001b[1;32m     12\u001b[0m \u001b[38;5;66;03m# info = elements[4].find_all('p')\u001b[39;00m\n\u001b[1;32m     13\u001b[0m \u001b[38;5;66;03m# 사이즈info[0].str.strip()\u001b[39;00m\n",
      "\u001b[0;31mIndexError\u001b[0m: list index out of range"
     ]
    }
   ],
   "source": [
    "soup = BeautifulSoup(html, 'html.parser')\n",
    "container = soup.select_one('#page-content > div:nth-child(2) > div > div:nth-child(3) > div > div.layout-container > div > ul')  \n",
    "reviews = container.find_all('li')\n",
    "# wrapper = reviews[0].select_one('div')\n",
    "# ele = wrapper.find_all(\"div\")\n",
    "result = []\n",
    "for review in reviews:\n",
    "    wrapper = review.select_one('div')\n",
    "    elements = wrapper.find_all('div')\n",
    "    title = None if elements[1].str == None  else elements[1].str.strip()\n",
    "    date = None if elements[2].str == None else elements[2].str.strip()    \n",
    "    # info = elements[4].find_all('p')\n",
    "    # 사이즈info[0].str.strip()\n",
    "    review_msg = None if elements[5].str == None else elements[5].str.strip()\n",
    "\n",
    "    result.append({\n",
    "        'title' : title,\n",
    "        'date' : date,\n",
    "        'review' : review_msg,\n",
    "    })\n",
    "\n",
    "with open('./uniqlo.json', 'w', encoding='utf-8') as f:\n",
    "    json.dump(result, f, indent=4)\n",
    "\n",
    "#컨테이너 #page-content > div:nth-child(2) > div > div:nth-child(3) > div > div.layout-container > div\n",
    "#하나의 테이블 #page-content > div:nth-child(2) > div > div:nth-child(3) > div > div.layout-container > div > ul > li:nth-child(1)\n",
    "#하나의 요소 #page-content > div:nth-child(2) > div > div:nth-child(3) > div > div.layout-container > div > ul > li:nth-child(1) > div > div.content-alignment.content-alignment--direction-row.content-alignment--content-space-between.content-alignment--alignment-flex-start.content-alignment--flex-wrap-nowrap.content-alignment--spacing-0.ito-margin-bottom-16\n",
    "# 1 타이틀 2 날짜 4p사이즈/색상/착용감 5 후기 7span 성별/나이/키/몸무게/신발사이즈"
   ]
  },
  {
   "cell_type": "code",
   "execution_count": null,
   "id": "e5e257a5",
   "metadata": {},
   "outputs": [
    {
     "name": "stdout",
     "output_type": "stream",
     "text": [
      "넉넉하니 좋아요\n"
     ]
    }
   ],
   "source": [
    "# # print(len(reviews))\n",
    "# print(reviews[0].text.strip())\n",
    "print(ele[1].text.strip())"
   ]
  },
  {
   "cell_type": "code",
   "execution_count": null,
   "id": "3c0012a9",
   "metadata": {},
   "outputs": [],
   "source": []
  }
 ],
 "metadata": {
  "kernelspec": {
   "display_name": "base",
   "language": "python",
   "name": "python3"
  },
  "language_info": {
   "codemirror_mode": {
    "name": "ipython",
    "version": 3
   },
   "file_extension": ".py",
   "mimetype": "text/x-python",
   "name": "python",
   "nbconvert_exporter": "python",
   "pygments_lexer": "ipython3",
   "version": "3.12.4"
  }
 },
 "nbformat": 4,
 "nbformat_minor": 5
}
