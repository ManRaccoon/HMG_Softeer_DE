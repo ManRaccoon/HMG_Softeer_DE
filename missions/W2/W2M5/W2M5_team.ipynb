{
 "cells": [
  {
   "cell_type": "code",
   "execution_count": null,
   "id": "cb45e8ff",
   "metadata": {},
   "outputs": [],
   "source": [
    "import requests\n",
    "\n",
    "limit = 25\n",
    "offset = 0"
   ]
  },
  {
   "cell_type": "code",
   "execution_count": null,
   "id": "95da558c",
   "metadata": {},
   "outputs": [],
   "source": [
    "html = requests.get(f'https://www.uniqlo.com/kr/api/commerce/v5/ko/products/E465185-000/reviews?limit={limit}&offset={offset}&sort=submission_time&httpFailure=true').text\n",
    "html"
   ]
  }
 ],
 "metadata": {
  "language_info": {
   "name": "python"
  }
 },
 "nbformat": 4,
 "nbformat_minor": 5
}
