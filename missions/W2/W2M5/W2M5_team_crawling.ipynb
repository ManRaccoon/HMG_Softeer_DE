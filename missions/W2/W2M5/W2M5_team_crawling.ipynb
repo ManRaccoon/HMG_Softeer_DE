{
 "cells": [
  {
   "cell_type": "code",
   "execution_count": 5,
   "id": "61d4ae9d",
   "metadata": {},
   "outputs": [
    {
     "name": "stdout",
     "output_type": "stream",
     "text": [
      "Requirement already satisfied: selenium in /opt/homebrew/anaconda3/lib/python3.12/site-packages (4.34.2)\n",
      "Requirement already satisfied: urllib3~=2.5.0 in /opt/homebrew/anaconda3/lib/python3.12/site-packages (from urllib3[socks]~=2.5.0->selenium) (2.5.0)\n",
      "Requirement already satisfied: trio~=0.30.0 in /opt/homebrew/anaconda3/lib/python3.12/site-packages (from selenium) (0.30.0)\n",
      "Requirement already satisfied: trio-websocket~=0.12.2 in /opt/homebrew/anaconda3/lib/python3.12/site-packages (from selenium) (0.12.2)\n",
      "Requirement already satisfied: certifi>=2025.6.15 in /opt/homebrew/anaconda3/lib/python3.12/site-packages (from selenium) (2025.7.14)\n",
      "Requirement already satisfied: typing_extensions~=4.14.0 in /opt/homebrew/anaconda3/lib/python3.12/site-packages (from selenium) (4.14.1)\n",
      "Requirement already satisfied: websocket-client~=1.8.0 in /opt/homebrew/anaconda3/lib/python3.12/site-packages (from selenium) (1.8.0)\n",
      "Requirement already satisfied: attrs>=23.2.0 in /opt/homebrew/anaconda3/lib/python3.12/site-packages (from trio~=0.30.0->selenium) (25.3.0)\n",
      "Requirement already satisfied: sortedcontainers in /opt/homebrew/anaconda3/lib/python3.12/site-packages (from trio~=0.30.0->selenium) (2.4.0)\n",
      "Requirement already satisfied: idna in /opt/homebrew/anaconda3/lib/python3.12/site-packages (from trio~=0.30.0->selenium) (3.7)\n",
      "Requirement already satisfied: outcome in /opt/homebrew/anaconda3/lib/python3.12/site-packages (from trio~=0.30.0->selenium) (1.3.0.post0)\n",
      "Requirement already satisfied: sniffio>=1.3.0 in /opt/homebrew/anaconda3/lib/python3.12/site-packages (from trio~=0.30.0->selenium) (1.3.0)\n",
      "Requirement already satisfied: wsproto>=0.14 in /opt/homebrew/anaconda3/lib/python3.12/site-packages (from trio-websocket~=0.12.2->selenium) (1.2.0)\n",
      "Requirement already satisfied: pysocks!=1.5.7,<2.0,>=1.5.6 in /opt/homebrew/anaconda3/lib/python3.12/site-packages (from urllib3[socks]~=2.5.0->selenium) (1.7.1)\n",
      "Requirement already satisfied: h11<1,>=0.9.0 in /opt/homebrew/anaconda3/lib/python3.12/site-packages (from wsproto>=0.14->trio-websocket~=0.12.2->selenium) (0.16.0)\n"
     ]
    }
   ],
   "source": [
    "!pip install selenium"
   ]
  },
  {
   "cell_type": "code",
   "execution_count": 6,
   "id": "cb45e8ff",
   "metadata": {},
   "outputs": [],
   "source": [
    "from selenium import webdriver\n",
    "from selenium.webdriver.common.keys import Keys\n",
    "from bs4 import BeautifulSoup\n",
    "import time\n",
    "import json\n",
    "import re\n",
    "import pandas as pd"
   ]
  },
  {
   "cell_type": "code",
   "execution_count": 7,
   "id": "a551474c",
   "metadata": {},
   "outputs": [
    {
     "ename": "KeyboardInterrupt",
     "evalue": "",
     "output_type": "error",
     "traceback": [
      "\u001b[0;31m---------------------------------------------------------------------------\u001b[0m",
      "\u001b[0;31mKeyboardInterrupt\u001b[0m                         Traceback (most recent call last)",
      "Cell \u001b[0;32mIn[7], line 30\u001b[0m\n\u001b[1;32m     23\u001b[0m driver\u001b[38;5;241m.\u001b[39mexecute_script(\u001b[38;5;124m\"\"\"\u001b[39m\n\u001b[1;32m     24\u001b[0m \u001b[38;5;124m    const offset = arguments[0];\u001b[39m\n\u001b[1;32m     25\u001b[0m \u001b[38;5;124m    const doc    = document.documentElement;\u001b[39m\n\u001b[1;32m     26\u001b[0m \u001b[38;5;124m    window.scrollTo(0, doc.scrollHeight - window.innerHeight - offset);\u001b[39m\n\u001b[1;32m     27\u001b[0m \u001b[38;5;124m\u001b[39m\u001b[38;5;124m\"\"\"\u001b[39m, OFFSET_PX)\n\u001b[1;32m     29\u001b[0m \u001b[38;5;28;01mtry\u001b[39;00m:\n\u001b[0;32m---> 30\u001b[0m     new_height \u001b[38;5;241m=\u001b[39m wait\u001b[38;5;241m.\u001b[39muntil(\n\u001b[1;32m     31\u001b[0m     \u001b[38;5;28;01mlambda\u001b[39;00m d, h\u001b[38;5;241m=\u001b[39mprev_height:\n\u001b[1;32m     32\u001b[0m         (nh \u001b[38;5;241m:=\u001b[39m d\u001b[38;5;241m.\u001b[39mexecute_script(\n\u001b[1;32m     33\u001b[0m             \u001b[38;5;124m\"\u001b[39m\u001b[38;5;124mreturn document.documentElement.scrollHeight\u001b[39m\u001b[38;5;124m\"\u001b[39m)) \u001b[38;5;241m>\u001b[39m h \u001b[38;5;129;01mand\u001b[39;00m nh)\n\u001b[1;32m     34\u001b[0m     prev_height \u001b[38;5;241m=\u001b[39m new_height \n\u001b[1;32m     36\u001b[0m \u001b[38;5;28;01mexcept\u001b[39;00m TimeoutException:\n",
      "File \u001b[0;32m/opt/homebrew/anaconda3/lib/python3.12/site-packages/selenium/webdriver/support/wait.py:137\u001b[0m, in \u001b[0;36mWebDriverWait.until\u001b[0;34m(self, method, message)\u001b[0m\n\u001b[1;32m    135\u001b[0m     \u001b[38;5;28;01mif\u001b[39;00m time\u001b[38;5;241m.\u001b[39mmonotonic() \u001b[38;5;241m>\u001b[39m end_time:\n\u001b[1;32m    136\u001b[0m         \u001b[38;5;28;01mbreak\u001b[39;00m\n\u001b[0;32m--> 137\u001b[0m     time\u001b[38;5;241m.\u001b[39msleep(\u001b[38;5;28mself\u001b[39m\u001b[38;5;241m.\u001b[39m_poll)\n\u001b[1;32m    138\u001b[0m \u001b[38;5;28;01mraise\u001b[39;00m TimeoutException(message, screen, stacktrace)\n",
      "\u001b[0;31mKeyboardInterrupt\u001b[0m: "
     ]
    }
   ],
   "source": [
    "#실험\n",
    "from selenium import webdriver\n",
    "from selenium.webdriver.chrome.service import Service\n",
    "from selenium.webdriver.chrome.options import Options\n",
    "from selenium.webdriver.support.ui import WebDriverWait\n",
    "from selenium.common.exceptions import TimeoutException\n",
    "import time\n",
    "import random as r\n",
    "\n",
    "URL = 'https://www.uniqlo.com/kr/ko/products/E465185-000/00/reviews'\n",
    "OFFSET_PX    = 500\n",
    "\n",
    "options = Options()\n",
    "options.add_argument(\"--headless\")\n",
    "driver = webdriver.Chrome(service=Service(), options=options)\n",
    "wait = WebDriverWait(driver, 10)\n",
    "driver.get(URL)\n",
    "\n",
    "prev_height = driver.execute_script(\n",
    "    \"return document.documentElement.scrollHeight\")\n",
    "\n",
    "while True:\n",
    "    driver.execute_script(\"\"\"\n",
    "        const offset = arguments[0];\n",
    "        const doc    = document.documentElement;\n",
    "        window.scrollTo(0, doc.scrollHeight - window.innerHeight - offset);\n",
    "    \"\"\", OFFSET_PX)\n",
    "\n",
    "    try:\n",
    "        new_height = wait.until(\n",
    "        lambda d, h=prev_height:\n",
    "            (nh := d.execute_script(\n",
    "                \"return document.documentElement.scrollHeight\")) > h and nh)\n",
    "        prev_height = new_height \n",
    "\n",
    "    except TimeoutException:\n",
    "        print(\"데이터 로딩 완료\")\n",
    "        break\n",
    "\n",
    "html = driver.page_source\n",
    "\n",
    "driver.quit()"
   ]
  },
  {
   "cell_type": "code",
   "execution_count": null,
   "id": "73090b21",
   "metadata": {},
   "outputs": [
    {
     "ename": "NameError",
     "evalue": "name 'BeautifulSoup' is not defined",
     "output_type": "error",
     "traceback": [
      "\u001b[0;31m---------------------------------------------------------------------------\u001b[0m",
      "\u001b[0;31mNameError\u001b[0m                                 Traceback (most recent call last)",
      "Cell \u001b[0;32mIn[4], line 1\u001b[0m\n\u001b[0;32m----> 1\u001b[0m soup \u001b[38;5;241m=\u001b[39m BeautifulSoup(html, \u001b[38;5;124m\"\u001b[39m\u001b[38;5;124mhtml.parser\u001b[39m\u001b[38;5;124m\"\u001b[39m)\n\u001b[1;32m      3\u001b[0m container \u001b[38;5;241m=\u001b[39m soup\u001b[38;5;241m.\u001b[39mselect_one(\n\u001b[1;32m      4\u001b[0m     \u001b[38;5;124m\"\u001b[39m\u001b[38;5;124m#page-content > div:nth-child(2) > div > div:nth-child(3) \u001b[39m\u001b[38;5;124m\"\u001b[39m\n\u001b[1;32m      5\u001b[0m     \u001b[38;5;124m\"\u001b[39m\u001b[38;5;124m> div > div.layout-container\u001b[39m\u001b[38;5;124m\"\u001b[39m\n\u001b[1;32m      6\u001b[0m )\n\u001b[1;32m      8\u001b[0m cards \u001b[38;5;241m=\u001b[39m container\u001b[38;5;241m.\u001b[39mselect(\u001b[38;5;124m\"\u001b[39m\u001b[38;5;124mdiv > ul > li > div\u001b[39m\u001b[38;5;124m\"\u001b[39m)\n",
      "\u001b[0;31mNameError\u001b[0m: name 'BeautifulSoup' is not defined"
     ]
    }
   ],
   "source": [
    "soup = BeautifulSoup(html, \"html.parser\")\n",
    "\n",
    "container = soup.select_one(\n",
    "    \"#page-content > div:nth-child(2) > div > div:nth-child(3) \"\n",
    "    \"> div > div.layout-container\"\n",
    ")\n",
    "\n",
    "cards = container.select(\"div > ul > li > div\")\n",
    "\n",
    "result = []\n",
    "\n",
    "for card in cards:\n",
    "    title = card.select_one(\"div.add-word-break\").get_text(strip=True)\n",
    "    date = card.select_one(\"div.ito-gray400.ito-margin-left-24\").get_text(strip=True)\n",
    "    size = card.select_one(\"div:nth-child(3) > p:nth-child(1)\").get_text(strip=True).split(':')[-1].strip()\n",
    "    color = card.select_one(\"div:nth-child(3) > p:nth-child(2)\").get_text(strip=True).split(':')[-1].strip()\n",
    "    fit = card.select_one(\"div:nth-child(3) > p:nth-child(3)\").get_text(strip=True).split(':')[-1].strip() if card.select_one(\"div:nth-child(3) > p:nth-child(3)\") else None\n",
    "    review = card.select_one(\"div.add-word-break.ito-margin-bottom-16 > div\").get_text(strip=True)\n",
    "        \n",
    "    gender = age_group = height = weight = shoe_size = None\n",
    "    info_div = card.select_one(\"div.reviewUserInfo\")\n",
    "    if info_div and info_div.get_text(strip=True) != \"선택하지 않음\":\n",
    "        for span in info_div.select(\"span\"):\n",
    "            t = span.get_text(strip=True)\n",
    "\n",
    "            if t in (\"남성\", \"여성\"):\n",
    "                gender = t\n",
    "\n",
    "            elif re.match(r\"^\\d+대(?:이상)?$\", t):\n",
    "                age_group = t\n",
    "\n",
    "            elif t.startswith(\"키\"):\n",
    "                parts = t.split(\":\", 1)\n",
    "                height = parts[1].strip() if len(parts) == 2 else None\n",
    "\n",
    "            elif t.startswith(\"몸무게\"):\n",
    "                parts = t.split(\":\", 1)\n",
    "                weight = parts[1].strip() if len(parts) == 2 else None\n",
    "\n",
    "            elif \"신발\" in t:\n",
    "                parts = t.split(\":\", 1)\n",
    "                shoe_size = parts[1].strip() if len(parts) == 2 else None\n",
    "    \n",
    "    \n",
    "    result.append({\n",
    "    'title' : title,\n",
    "    'date' : date,\n",
    "    'size' : size,\n",
    "    'color' : color,\n",
    "    'fit' : fit,\n",
    "    'review' : review,\n",
    "    'gender' : gender,\n",
    "    'age_group' : age_group,\n",
    "    'height' : height,\n",
    "    'weight' : weight,\n",
    "    'shoe_size' : shoe_size,\n",
    "    })\n",
    "\n",
    "with open('./uniqlo.json', 'w', encoding='utf-8') as f:\n",
    "    json.dump(result, f, ensure_ascii=False, indent=4) "
   ]
  }
 ],
 "metadata": {
  "kernelspec": {
   "display_name": "base",
   "language": "python",
   "name": "python3"
  },
  "language_info": {
   "codemirror_mode": {
    "name": "ipython",
    "version": 3
   },
   "file_extension": ".py",
   "mimetype": "text/x-python",
   "name": "python",
   "nbconvert_exporter": "python",
   "pygments_lexer": "ipython3",
   "version": "3.12.4"
  }
 },
 "nbformat": 4,
 "nbformat_minor": 5
}
